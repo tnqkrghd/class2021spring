{
  "nbformat": 4,
  "nbformat_minor": 0,
  "metadata": {
    "colab": {
      "name": "20210317.ipynb",
      "provenance": [],
      "authorship_tag": "ABX9TyMhrAkDn7lbLIzyus9jVPUJ",
      "include_colab_link": true
    },
    "kernelspec": {
      "name": "python3",
      "display_name": "Python 3"
    }
  },
  "cells": [
    {
      "cell_type": "markdown",
      "metadata": {
        "id": "view-in-github",
        "colab_type": "text"
      },
      "source": [
        "<a href=\"https://colab.research.google.com/github/tnqkrghd/class2021spring/blob/main/20210317.ipynb\" target=\"_parent\"><img src=\"https://colab.research.google.com/assets/colab-badge.svg\" alt=\"Open In Colab\"/></a>"
      ]
    },
    {
      "cell_type": "code",
      "metadata": {
        "colab": {
          "base_uri": "https://localhost:8080/"
        },
        "id": "X_h3RgcWuTmA",
        "outputId": "c37e705b-82d5-4075-df3c-520a7b41ba81"
      },
      "source": [
        "a = ['Kim', 'Hong', 'Soo', 'Park']\r\n",
        "b = [168, 153, 180, 175]\r\n",
        "\r\n",
        "for i in a:\r\n",
        "  for j in b:\r\n",
        "    if (j < 165):\r\n",
        "      print(i, '은(는) 이 놀이기구를 탑승할 수 없습니다.')\r\n"
      ],
      "execution_count": 5,
      "outputs": [
        {
          "output_type": "stream",
          "text": [
            "Kim 은(는) 이 놀이기구를 탑승할 수 없습니다.\n",
            "Hong 은(는) 이 놀이기구를 탑승할 수 없습니다.\n",
            "Soo 은(는) 이 놀이기구를 탑승할 수 없습니다.\n",
            "Park 은(는) 이 놀이기구를 탑승할 수 없습니다.\n"
          ],
          "name": "stdout"
        }
      ]
    },
    {
      "cell_type": "code",
      "metadata": {
        "colab": {
          "base_uri": "https://localhost:8080/"
        },
        "id": "6GcDRks0u41V",
        "outputId": "281c74af-d2c6-4252-e317-cee0736212c8"
      },
      "source": [
        "c = [i for i in b if i>=165]\r\n",
        "c"
      ],
      "execution_count": 7,
      "outputs": [
        {
          "output_type": "execute_result",
          "data": {
            "text/plain": [
              "[168, 180, 175]"
            ]
          },
          "metadata": {
            "tags": []
          },
          "execution_count": 7
        }
      ]
    },
    {
      "cell_type": "code",
      "metadata": {
        "id": "436_16LUvMf7"
      },
      "source": [
        ""
      ],
      "execution_count": null,
      "outputs": []
    }
  ]
}