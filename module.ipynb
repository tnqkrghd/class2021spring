{
  "nbformat": 4,
  "nbformat_minor": 0,
  "metadata": {
    "colab": {
      "name": "module.ipynb",
      "provenance": [],
      "include_colab_link": true
    },
    "kernelspec": {
      "name": "python3",
      "display_name": "Python 3"
    },
    "language_info": {
      "name": "python"
    }
  },
  "cells": [
    {
      "cell_type": "markdown",
      "metadata": {
        "id": "view-in-github",
        "colab_type": "text"
      },
      "source": [
        "<a href=\"https://colab.research.google.com/github/tnqkrghd/class2021spring/blob/main/module.ipynb\" target=\"_parent\"><img src=\"https://colab.research.google.com/assets/colab-badge.svg\" alt=\"Open In Colab\"/></a>"
      ]
    },
    {
      "cell_type": "code",
      "metadata": {
        "id": "sU1MEIdt2UEc"
      },
      "source": [
        "class cal:\n",
        "  def __init__(self):\n",
        "    self.result = 0\n",
        "  # 객체를 처음 만들 때 실행됨\n",
        "\n",
        "  def add(self, n):\n",
        "    self.result += n\n",
        "    return self.result"
      ],
      "execution_count": 1,
      "outputs": []
    },
    {
      "cell_type": "code",
      "metadata": {
        "id": "Sa42xuz6cGQL",
        "outputId": "06ebce8c-662d-4eeb-c5cc-68b156e6b579",
        "colab": {
          "base_uri": "https://localhost:8080/"
        }
      },
      "source": [
        "class cal2:\n",
        "  def __init__(self):\n",
        "    self.result = 0\n",
        "  # 객체를 처음 만들 때 실행됨\n",
        "\n",
        "  def add(self, n):\n",
        "    result = 0\n",
        "    result += n\n",
        "    return result, self.result\n",
        "\n",
        "A = cal2()\n",
        "A.add(2)\n",
        "\n",
        "# self.result 와 result 는 다른 변수라는 점!"
      ],
      "execution_count": 8,
      "outputs": [
        {
          "output_type": "execute_result",
          "data": {
            "text/plain": [
              "(2, 0)"
            ]
          },
          "metadata": {
            "tags": []
          },
          "execution_count": 8
        }
      ]
    },
    {
      "cell_type": "code",
      "metadata": {
        "id": "DK4vTA6T4NN0"
      },
      "source": [
        "def func(a, b, x):\n",
        "  y = a*x + b\n",
        "  return y"
      ],
      "execution_count": null,
      "outputs": []
    },
    {
      "cell_type": "markdown",
      "metadata": {
        "id": "4KjuaE-se2RL"
      },
      "source": [
        "모듈은 필요한 클래스, 함수, 변수들을 한꺼번에 모아놓은 파일로, .py 이어야 한다.\n",
        "\n"
      ]
    }
  ]
}