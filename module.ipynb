{
  "nbformat": 4,
  "nbformat_minor": 0,
  "metadata": {
    "colab": {
      "name": "module.ipynb",
      "provenance": [],
      "include_colab_link": true
    },
    "kernelspec": {
      "name": "python3",
      "display_name": "Python 3"
    },
    "language_info": {
      "name": "python"
    }
  },
  "cells": [
    {
      "cell_type": "markdown",
      "metadata": {
        "id": "view-in-github",
        "colab_type": "text"
      },
      "source": [
        "<a href=\"https://colab.research.google.com/github/tnqkrghd/class2021spring/blob/main/module.ipynb\" target=\"_parent\"><img src=\"https://colab.research.google.com/assets/colab-badge.svg\" alt=\"Open In Colab\"/></a>"
      ]
    },
    {
      "cell_type": "code",
      "metadata": {
        "id": "sU1MEIdt2UEc"
      },
      "source": [
        "class cal:\n",
        "  def __init__(self):\n",
        "    self.result = 0\n",
        "  def add(self, n):\n",
        "    self.result += n\n",
        "    return self.result"
      ],
      "execution_count": null,
      "outputs": []
    },
    {
      "cell_type": "code",
      "metadata": {
        "id": "DK4vTA6T4NN0"
      },
      "source": [
        "def func(a, b, x):\n",
        "  y = a*x + b\n",
        "  return y"
      ],
      "execution_count": null,
      "outputs": []
    }
  ]
}