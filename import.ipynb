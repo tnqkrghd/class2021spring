{
  "nbformat": 4,
  "nbformat_minor": 0,
  "metadata": {
    "colab": {
      "name": "import.ipynb",
      "provenance": [],
      "include_colab_link": true
    },
    "kernelspec": {
      "name": "python3",
      "display_name": "Python 3"
    },
    "language_info": {
      "name": "python"
    }
  },
  "cells": [
    {
      "cell_type": "markdown",
      "metadata": {
        "id": "view-in-github",
        "colab_type": "text"
      },
      "source": [
        "<a href=\"https://colab.research.google.com/github/tnqkrghd/class2021spring/blob/main/import.ipynb\" target=\"_parent\"><img src=\"https://colab.research.google.com/assets/colab-badge.svg\" alt=\"Open In Colab\"/></a>"
      ]
    },
    {
      "cell_type": "code",
      "metadata": {
        "id": "JXicrkYOzPRo"
      },
      "source": [
        "import numpy as np\n",
        "n = np.random.randn(100)"
      ],
      "execution_count": 1,
      "outputs": []
    },
    {
      "cell_type": "code",
      "metadata": {
        "id": "oKT4vn4MwyLA"
      },
      "source": [
        "import matplotlib\n",
        "import matplotlib.pyplot\n",
        "from matplotlib import pyplot\n",
        "from matplotlib.pyplot import hist"
      ],
      "execution_count": null,
      "outputs": []
    },
    {
      "cell_type": "markdown",
      "metadata": {
        "id": "mAY6YDR9hxih"
      },
      "source": [
        "패키지(폴더) 안에 모듈(.py) 이, 그 안에는 함수와 변수, 클래스가 들어가 있다."
      ]
    },
    {
      "cell_type": "code",
      "metadata": {
        "id": "ahR0tWpUhXAZ"
      },
      "source": [
        "import matplotlib\n",
        "matplotlib.pyplot.hist(7)\n",
        "\n",
        "from matplotlib import pyplot\n",
        "pyplot.hist(7)\n",
        "\n",
        "from matplotlib,pyplot import hist\n",
        "hist(7)"
      ],
      "execution_count": null,
      "outputs": []
    }
  ]
}