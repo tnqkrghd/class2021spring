{
  "nbformat": 4,
  "nbformat_minor": 0,
  "metadata": {
    "colab": {
      "name": "programming.ipynb",
      "provenance": [],
      "authorship_tag": "ABX9TyN2s1w0vQJL4Nrh1H5NO4zq",
      "include_colab_link": true
    },
    "kernelspec": {
      "name": "python3",
      "display_name": "Python 3"
    }
  },
  "cells": [
    {
      "cell_type": "markdown",
      "metadata": {
        "id": "view-in-github",
        "colab_type": "text"
      },
      "source": [
        "<a href=\"https://colab.research.google.com/github/tnqkrghd/class2021spring/blob/main/programming.ipynb\" target=\"_parent\"><img src=\"https://colab.research.google.com/assets/colab-badge.svg\" alt=\"Open In Colab\"/></a>"
      ]
    },
    {
      "cell_type": "markdown",
      "metadata": {
        "id": "VrxBP1asovgb"
      },
      "source": [
        "##### 컴퓨터 언어 : 컴퓨터가 인간의 명령을 받아들이기 위해 내부적으로 사용하는 언어입니다.\r\n",
        "##### 변수 : 인간 언어의 '단어'에 해당하는 것으로, '의미'를 '=' 를 통해 assign 합니다. ex. a = 1\r\n",
        "##### 제어문 : 인간 언어의 '문법'에 해당하며, 가장 중요한 반복문(for문)과 그 다음으로 중요한 제어문(if문)이 있습니다.\r\n",
        "##### 함수 : 입력을 받아 내부적인 과정을 거쳐서 출력을 만들어냅니다. 가장 기초적이고 대표적인 형태로는 y = ax + b 꼴이 있습니다."
      ]
    }
  ]
}