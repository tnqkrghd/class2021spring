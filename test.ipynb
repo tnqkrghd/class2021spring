{
  "nbformat": 4,
  "nbformat_minor": 0,
  "metadata": {
    "colab": {
      "name": "test.ipynb",
      "provenance": [],
      "authorship_tag": "ABX9TyPvPW80AhwK7JTcGyWbdU8i",
      "include_colab_link": true
    },
    "kernelspec": {
      "name": "python3",
      "display_name": "Python 3"
    }
  },
  "cells": [
    {
      "cell_type": "markdown",
      "metadata": {
        "id": "view-in-github",
        "colab_type": "text"
      },
      "source": [
        "<a href=\"https://colab.research.google.com/github/tnqkrghd/class2021spring/blob/main/test.ipynb\" target=\"_parent\"><img src=\"https://colab.research.google.com/assets/colab-badge.svg\" alt=\"Open In Colab\"/></a>"
      ]
    },
    {
      "cell_type": "code",
      "metadata": {
        "id": "pVfFlIYQURcG"
      },
      "source": [
        ""
      ],
      "execution_count": null,
      "outputs": []
    },
    {
      "cell_type": "markdown",
      "metadata": {
        "id": "PxKQ5ziXUSqf"
      },
      "source": [
        "# 오늘 배운 것:\r\n",
        "## github 계정 만들기, login 해서 repository 만들기 (이름은 class2021Spring)\r\n",
        "\r\n",
        "\r\n",
        "1. python\r\n",
        "2. markdown"
      ]
    },
    {
      "cell_type": "code",
      "metadata": {
        "colab": {
          "base_uri": "https://localhost:8080/"
        },
        "id": "JSWGiE7gVyR1",
        "outputId": "3fe8042b-9e85-4c56-bbeb-417356495ba8"
      },
      "source": [
        "a = 1\r\n",
        "b = 2\r\n",
        "c = a + b\r\n",
        "c"
      ],
      "execution_count": 1,
      "outputs": [
        {
          "output_type": "execute_result",
          "data": {
            "text/plain": [
              "3"
            ]
          },
          "metadata": {
            "tags": []
          },
          "execution_count": 1
        }
      ]
    },
    {
      "cell_type": "markdown",
      "metadata": {
        "id": "yCKU5Gn4WQnA"
      },
      "source": [
        "# 우리는 파이썬을 배우게 됩니다."
      ]
    },
    {
      "cell_type": "markdown",
      "metadata": {
        "id": "rpupb3HvWcvM"
      },
      "source": [
        "Jump to Python"
      ]
    },
    {
      "cell_type": "code",
      "metadata": {
        "id": "npS4Fe5xV0R2"
      },
      "source": [
        ""
      ],
      "execution_count": null,
      "outputs": []
    }
  ]
}