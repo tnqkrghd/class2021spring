{
  "nbformat": 4,
  "nbformat_minor": 0,
  "metadata": {
    "colab": {
      "name": "20210331.ipynb",
      "provenance": [],
      "authorship_tag": "ABX9TyNjQSaaH3F5P1EsyWVvqSla",
      "include_colab_link": true
    },
    "kernelspec": {
      "name": "python3",
      "display_name": "Python 3"
    },
    "language_info": {
      "name": "python"
    }
  },
  "cells": [
    {
      "cell_type": "markdown",
      "metadata": {
        "id": "view-in-github",
        "colab_type": "text"
      },
      "source": [
        "<a href=\"https://colab.research.google.com/github/tnqkrghd/class2021spring/blob/main/20210331.ipynb\" target=\"_parent\"><img src=\"https://colab.research.google.com/assets/colab-badge.svg\" alt=\"Open In Colab\"/></a>"
      ]
    },
    {
      "cell_type": "markdown",
      "metadata": {
        "id": "38UG6KQD4PUF"
      },
      "source": [
        "a pitch intensity formant duration\n",
        "\n",
        "pitch :  96.39 Hz / 101.1 Hz\n",
        "\n",
        "intensity : 77.64 db / 73.91 db\n",
        "\n",
        "formant : 893 Hz, 1245 Hz / 574 Hz, 1851 Hz\n",
        "\n",
        "duration : 0.433 / 0.633 \n",
        "\n"
      ]
    }
  ]
}